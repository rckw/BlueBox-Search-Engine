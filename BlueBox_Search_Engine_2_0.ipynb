{
  "nbformat": 4,
  "nbformat_minor": 0,
  "metadata": {
    "colab": {
      "name": "BlueBox Search Engine 2.0.ipynb",
      "provenance": [],
      "collapsed_sections": [],
      "toc_visible": true,
      "authorship_tag": "ABX9TyNATxnu1vxHmW2oP5G+SHfS",
      "include_colab_link": true
    },
    "kernelspec": {
      "name": "python3",
      "display_name": "Python 3"
    },
    "language_info": {
      "name": "python"
    }
  },
  "cells": [
    {
      "cell_type": "markdown",
      "metadata": {
        "id": "view-in-github",
        "colab_type": "text"
      },
      "source": [
        "<a href=\"https://colab.research.google.com/github/rckw/BlueBox-Search-Engine/blob/main/BlueBox_Search_Engine_2_0.ipynb\" target=\"_parent\"><img src=\"https://colab.research.google.com/assets/colab-badge.svg\" alt=\"Open In Colab\"/></a>"
      ]
    },
    {
      "cell_type": "markdown",
      "source": [
        "# BlueBox Search Engine 2.0"
      ],
      "metadata": {
        "id": "Wbf4zlPLclZv"
      }
    },
    {
      "cell_type": "markdown",
      "source": [
        "#1 - Introduction\n",
        "\n",
        "With this notebook, it is possible to search for Bluebox data.\n",
        "\n",
        "The main groups are:\n",
        "\n",
        "\n",
        "1.   FSB board connections - Connection data of the FSB boards\n",
        "2.   FSB configuration - Signals assigned for each board to a machine type\n",
        "3.   CBSIM configuration - Signals assigned to each CBSIM and the SW control\n",
        "\n",
        "*To be continued...*\n",
        "\n"
      ],
      "metadata": {
        "id": "8YFavsdmcs4R"
      }
    },
    {
      "cell_type": "markdown",
      "source": [
        "********************************************************************************"
      ],
      "metadata": {
        "id": "4GWEvyj6dfhY"
      }
    },
    {
      "cell_type": "markdown",
      "source": [
        "# 2 - Imports\n",
        "\n",
        "*Import the required packages / modules*"
      ],
      "metadata": {
        "id": "mx6G3VFjdG4K"
      }
    },
    {
      "cell_type": "code",
      "execution_count": 1,
      "metadata": {
        "id": "JweFSO-bcgQ4",
        "colab": {
          "base_uri": "https://localhost:8080/"
        },
        "outputId": "c37dade5-ecf5-47b8-b753-5e87aa79cdbf"
      },
      "outputs": [
        {
          "output_type": "stream",
          "name": "stdout",
          "text": [
            "Looking in indexes: https://pypi.org/simple, https://us-python.pkg.dev/colab-wheels/public/simple/\n",
            "Collecting colorama\n",
            "  Downloading colorama-0.4.5-py2.py3-none-any.whl (16 kB)\n",
            "Installing collected packages: colorama\n",
            "Successfully installed colorama-0.4.5\n"
          ]
        }
      ],
      "source": [
        "import os\n",
        "from google.colab.data_table import DataTable\n",
        "import pandas as pd\n",
        "import numpy as np\n",
        "import matplotlib.pyplot as plt\n",
        "from IPython.display import display\n",
        "!pip install colorama\n",
        "from colorama import Fore"
      ]
    },
    {
      "cell_type": "markdown",
      "source": [
        "********************************************************************************"
      ],
      "metadata": {
        "id": "PsEykothdg_U"
      }
    },
    {
      "cell_type": "markdown",
      "source": [
        "# 3 - Downloads\n",
        "\n",
        "*The CSV files are available in Github*"
      ],
      "metadata": {
        "id": "yPWSYrrKdnL3"
      }
    },
    {
      "cell_type": "markdown",
      "source": [
        "## 3.1  FSB board connections\n",
        "\n",
        "*Download the file with the BlueBox FSB board connections*"
      ],
      "metadata": {
        "id": "HTtQwE9-dqxt"
      }
    },
    {
      "cell_type": "code",
      "source": [
        "print(Fore.RED + \"Removing fsb board connections file...\" + Fore.RESET)\n",
        "!rm /content/fsb_board_connections.csv\n",
        "print(Fore.BLUE + \"Downloading...\" + Fore.RESET)\n",
        "!wget https://raw.githubusercontent.com/rckw/BlueBox-Search-Engine-1.0/main/csv_data/fsb_board_connections.csv\n",
        "!ls /content  # list the files in the current working directory (/content)"
      ],
      "metadata": {
        "id": "wk7u0GeUdr1K"
      },
      "execution_count": null,
      "outputs": []
    },
    {
      "cell_type": "markdown",
      "source": [
        "## 3.2  BlueBox configuration files\n",
        "\n",
        "*Download the Bluebox configuration files*"
      ],
      "metadata": {
        "id": "CZUr-tg-fC9h"
      }
    },
    {
      "cell_type": "code",
      "source": [
        "print(Fore.RED + \"Removing wiring files...\" + Fore.RESET)\n",
        "!rm /content/absd_config_wiring.csv\n",
        "!rm /content/cbsd_config_wiring.csv\n",
        "!rm /content/cbss_config_wiring.csv\n",
        "!rm /content/rbsd_config_wiring.csv\n",
        "print(Fore.BLUE + \"Downloading...\" + Fore.RESET)\n",
        "!wget https://raw.githubusercontent.com/rckw/BlueBox-Search-Engine-1.0/main/csv_data/absd_config_wiring.csv\n",
        "!wget https://raw.githubusercontent.com/rckw/BlueBox-Search-Engine-1.0/main/csv_data/cbsd_config_wiring.csv\n",
        "!wget https://raw.githubusercontent.com/rckw/BlueBox-Search-Engine-1.0/main/csv_data/cbss_config_wiring.csv\n",
        "!wget https://raw.githubusercontent.com/rckw/BlueBox-Search-Engine-1.0/main/csv_data/rbsd_config_wiring.csv\n",
        "!ls /content  # list the files in the current working directory (/content)"
      ],
      "metadata": {
        "id": "VGGSFX7h2b0I"
      },
      "execution_count": null,
      "outputs": []
    },
    {
      "cell_type": "markdown",
      "source": [
        "## 3.3  CBSIM connections and control\n",
        "\n",
        "*Download the CBSIM files (simulator 4)*"
      ],
      "metadata": {
        "id": "QUs9INftfNrS"
      }
    },
    {
      "cell_type": "code",
      "source": [
        "print(Fore.RED + \"Removing wiring files...\" + Fore.RESET)\n",
        "!rm /content/cbsim_4_io.csv\n",
        "!rm /content/cbsim_4_signals.csv\n",
        "print(Fore.BLUE + \"Downloading...\" + Fore.RESET)\n",
        "!wget https://raw.githubusercontent.com/rckw/BlueBox-Search-Engine-1.0/main/csv_data/cbsim_4_io.csv\n",
        "!wget https://raw.githubusercontent.com/rckw/BlueBox-Search-Engine-1.0/main/csv_data/cbsim_4_signals.csv\n",
        "!ls /content  # list the files in the current working directory (/content)"
      ],
      "metadata": {
        "id": "W2phokFC_2Yy"
      },
      "execution_count": null,
      "outputs": []
    },
    {
      "cell_type": "markdown",
      "source": [
        "********************************************************************************"
      ],
      "metadata": {
        "id": "JzQEppWJd76L"
      }
    },
    {
      "cell_type": "markdown",
      "source": [
        "# 4 - Variables"
      ],
      "metadata": {
        "id": "oq4u24cuiGx2"
      }
    },
    {
      "cell_type": "markdown",
      "source": [
        "## 4.1  File names"
      ],
      "metadata": {
        "id": "tKa5KBkvwhoJ"
      }
    },
    {
      "cell_type": "code",
      "source": [
        "fn_fsb_board_connections = '/content/fsb_board_connections.csv'\n",
        "fn_absd_config = '/content/absd_config_wiring.csv'\n",
        "fn_cbsd_config = '/content/cbsd_config_wiring.csv'\n",
        "fn_cbss_config = '/content/cbss_config_wiring.csv'\n",
        "fn_rbsd_config = '/content/rbsd_config_wiring.csv'\n",
        "\n",
        "fn_cbsim_4_io = '/content/cbsim_4_io.csv'\n",
        "fn_cbsim_4_signals = '/content/cbsim_4_signals.csv'"
      ],
      "metadata": {
        "id": "F6TPX4_UiKXE"
      },
      "execution_count": 3,
      "outputs": []
    },
    {
      "cell_type": "markdown",
      "source": [
        "## 4.2  Other ...(?)"
      ],
      "metadata": {
        "id": "MaGzfsL6x9eH"
      }
    },
    {
      "cell_type": "code",
      "source": [
        "# To check if needed ...?\n",
        "board_list = [\"absd\", \"cbsd\", \"cbss\", \"rbsd\"]\n",
        "bool_dict = {\n",
        "    \"True\": True,\n",
        "    \"False\": False,\n",
        "    \"true\": True,\n",
        "    \"false\": False,\n",
        "    \"1\": True,\n",
        "    \"0\": False\n",
        "}"
      ],
      "metadata": {
        "id": "Gfaf_3aaw6Gf"
      },
      "execution_count": null,
      "outputs": []
    },
    {
      "cell_type": "markdown",
      "source": [
        "********************************************************************************"
      ],
      "metadata": {
        "id": "RAwYVB_fxF_A"
      }
    },
    {
      "cell_type": "markdown",
      "source": [
        "# 5 - Settings\n",
        "\n",
        "*Some adjustable settings for the data frame(s)*"
      ],
      "metadata": {
        "id": "PjJcitINfnFs"
      }
    },
    {
      "cell_type": "code",
      "source": [
        "DataTable.max_columns = 80\n",
        "%load_ext google.colab.data_table\n",
        "# %reload_ext google.colab.data_table"
      ],
      "metadata": {
        "id": "gFbkkE7Lft29"
      },
      "execution_count": 13,
      "outputs": []
    },
    {
      "cell_type": "markdown",
      "source": [
        "********************************************************************************"
      ],
      "metadata": {
        "id": "F5PDQKC7fvEJ"
      }
    },
    {
      "cell_type": "markdown",
      "source": [
        "# 6 - Load data frame(s)"
      ],
      "metadata": {
        "id": "alydUCgCgM0l"
      }
    },
    {
      "cell_type": "markdown",
      "source": [
        "## 6.1  FSB board connections"
      ],
      "metadata": {
        "id": "JnRQxqIiyNFl"
      }
    },
    {
      "cell_type": "code",
      "source": [
        "df_fsb_board_connections = pd.read_csv(fn_fsb_board_connections, sep=';')"
      ],
      "metadata": {
        "id": "9l_283ldgR0t"
      },
      "execution_count": 5,
      "outputs": []
    },
    {
      "cell_type": "markdown",
      "source": [
        "## 6.2  Bluebox FSB configuration "
      ],
      "metadata": {
        "id": "6ix-vDpv4js2"
      }
    },
    {
      "cell_type": "code",
      "source": [
        "df_absd_config = pd.read_csv(fn_absd_config, sep=';')\n",
        "df_cbsd_config = pd.read_csv(fn_cbsd_config, sep=';')\n",
        "df_cbss_config = pd.read_csv(fn_cbss_config, sep=';')\n",
        "df_rbsd_config = pd.read_csv(fn_rbsd_config, sep=';')"
      ],
      "metadata": {
        "id": "TtTZ_h-p43x3"
      },
      "execution_count": 9,
      "outputs": []
    },
    {
      "cell_type": "markdown",
      "source": [
        "## 6.3  CBSIM configuration (simulator 4)"
      ],
      "metadata": {
        "id": "zFDloRO7A-XR"
      }
    },
    {
      "cell_type": "code",
      "source": [
        "df_cbsim_4_io = pd.read_csv(fn_cbsim_4_io, sep=';')\n",
        "df_cbsim_4_signals = pd.read_csv(fn_cbsim_4_signals, sep=';')"
      ],
      "metadata": {
        "id": "5acx5-WyBM4B"
      },
      "execution_count": 18,
      "outputs": []
    },
    {
      "cell_type": "markdown",
      "source": [
        "********************************************************************************"
      ],
      "metadata": {
        "id": "3cu7SJNR50yz"
      }
    },
    {
      "cell_type": "markdown",
      "source": [
        "# 7 - View data frame(s)"
      ],
      "metadata": {
        "id": "1nhMIs-Gd-qi"
      }
    },
    {
      "cell_type": "markdown",
      "source": [
        "## 7.1  FSB board connections"
      ],
      "metadata": {
        "id": "QxvbkqPAxzFB"
      }
    },
    {
      "cell_type": "code",
      "source": [
        "display(df_fsb_board_connections)"
      ],
      "metadata": {
        "id": "gcjHPivce0DG"
      },
      "execution_count": null,
      "outputs": []
    },
    {
      "cell_type": "markdown",
      "source": [
        "## 7.2  Bluebox FSB configuration"
      ],
      "metadata": {
        "id": "k-HCRLld5g0U"
      }
    },
    {
      "cell_type": "markdown",
      "source": [
        "### 7.2.1  ABSD"
      ],
      "metadata": {
        "id": "eE9_DczC6HV6"
      }
    },
    {
      "cell_type": "code",
      "source": [
        "display(df_absd_config[2:])"
      ],
      "metadata": {
        "id": "oJ5wClqZ5600"
      },
      "execution_count": null,
      "outputs": []
    },
    {
      "cell_type": "markdown",
      "source": [
        "### 7.2.2  CBSD"
      ],
      "metadata": {
        "id": "ZYy5DdFP9Bx-"
      }
    },
    {
      "cell_type": "code",
      "source": [
        "display(df_cbsd_config[2:])"
      ],
      "metadata": {
        "id": "wgk-Xb0k9FA5"
      },
      "execution_count": null,
      "outputs": []
    },
    {
      "cell_type": "markdown",
      "source": [
        "### 7.2.3  CBSS"
      ],
      "metadata": {
        "id": "VhQc3teO9LpO"
      }
    },
    {
      "cell_type": "code",
      "source": [
        "display(df_cbss_config[1:])"
      ],
      "metadata": {
        "id": "n7BlIZj-9PsY"
      },
      "execution_count": null,
      "outputs": []
    },
    {
      "cell_type": "markdown",
      "source": [
        "### 7.2.4  RBSD"
      ],
      "metadata": {
        "id": "IFGrkEMq9Ufp"
      }
    },
    {
      "cell_type": "code",
      "source": [
        "display(df_rbsd_config[1:])"
      ],
      "metadata": {
        "id": "Wmh8p3fu9XnM"
      },
      "execution_count": null,
      "outputs": []
    },
    {
      "cell_type": "markdown",
      "source": [
        "## 7.3  CBSIM connections and control\n",
        "\n",
        "*Only simulator 4*"
      ],
      "metadata": {
        "id": "y_JRw6Rz_U9y"
      }
    },
    {
      "cell_type": "markdown",
      "source": [
        "### 7.3.1  CBSIM IO\n",
        "\n",
        "*Overview of the CBSIM signals and the SW control (simulator 4)*"
      ],
      "metadata": {
        "id": "5z1yzb1PB7ak"
      }
    },
    {
      "cell_type": "code",
      "source": [
        "display(df_cbsim_4_io)"
      ],
      "metadata": {
        "id": "w-pQ0NWz_gCg"
      },
      "execution_count": null,
      "outputs": []
    },
    {
      "cell_type": "markdown",
      "source": [
        "### 7.3.2  CBSIM Signals\n",
        "\n",
        "*Overview of the CBSIM signals (simulator 4)*"
      ],
      "metadata": {
        "id": "zOKbiCx_CJIV"
      }
    },
    {
      "cell_type": "code",
      "source": [
        "display(df_cbsim_4_signals)"
      ],
      "metadata": {
        "id": "tzF8nbokBl4Q"
      },
      "execution_count": null,
      "outputs": []
    },
    {
      "cell_type": "markdown",
      "source": [
        "********************************************************************************\n",
        "**You have done well**\n",
        "********************************************************************************"
      ],
      "metadata": {
        "id": "pvNU5rUQYi93"
      }
    },
    {
      "cell_type": "markdown",
      "source": [
        "********************************************************************************\n",
        "**From here some advanced skills are required !!! **\n",
        "********************************************************************************"
      ],
      "metadata": {
        "id": "3svfEJ8hDA0B"
      }
    },
    {
      "cell_type": "markdown",
      "source": [
        "# 8 - Advanced"
      ],
      "metadata": {
        "id": "y-xwC3fqDBy-"
      }
    },
    {
      "cell_type": "markdown",
      "source": [
        "*Search for (sub)string in io and signals*"
      ],
      "metadata": {
        "id": "LI821at_OOsh"
      }
    },
    {
      "cell_type": "code",
      "source": [
        "row_search = input(\"Enter a search item: \")\n",
        "search_result_io = df_cbsim_4_io[df_cbsim_4_io.apply(lambda row: row.astype(str).str.contains(row_search, case=False).any(), axis=1)]\n",
        "search_result_signals = df_cbsim_4_signals[df_cbsim_4_signals.apply(lambda row: row.astype(str).str.contains(row_search, case=False).any(), axis=1)]\n",
        "if search_result_io.empty: \n",
        "  print(Fore.RED + \"No matches found in df_cbsim_4_io\" + Fore.RESET)\n",
        "else: \n",
        "  print(Fore.GREEN + \"Found something in df_cbsim_4_io\" + Fore.RESET)\n",
        "if search_result_signals.empty: \n",
        "  print(Fore.RED + \"No matches found in df_cbsim_4_signals\" + Fore.RESET)\n",
        "else: \n",
        "  print(Fore.GREEN + \"Found something in df_cbsim_4_signals\" + Fore.RESET)\n",
        "\n",
        "print(Fore.BLUE + \"\\r\\ndf_cbsim_4_io\" + Fore.RESET)\n",
        "display(search_result_io)\n",
        "print(Fore.BLUE + \"\\r\\ndf_cbsim_4_signals\" + Fore.RESET)\n",
        "display(search_result_signals)"
      ],
      "metadata": {
        "id": "wUaVKACJDFXg"
      },
      "execution_count": null,
      "outputs": []
    },
    {
      "cell_type": "markdown",
      "source": [
        "*Search for ID matches*"
      ],
      "metadata": {
        "id": "btmOtDEpOXeT"
      }
    },
    {
      "cell_type": "code",
      "source": [
        "row_index = input(\"Enter a row index: \")\n",
        "search_index = int(row_index)\n",
        "io_search_id = 10000  # non excisting value\n",
        "\n",
        "if search_index in df_cbsim_4_io.index:\n",
        "  print(Fore.GREEN + \"Index \" + row_index + \" found in df_cbsim_4_io\" + Fore.RESET)\n",
        "  io_search_id = df_cbsim_4_io.loc[search_index][\"SEARCH_ID\"]\n",
        "  signals_id = df_cbsim_4_signals.loc[df_cbsim_4_signals[\"ID\"] == io_search_id].index[0]\n",
        "else:\n",
        "  print(Fore.RED + \"Index \" + row_index + \" not found in df_cbsim_4_io\")\n",
        "  signals_id = io_search_id\n",
        "\n",
        "if signals_id in df_cbsim_4_signals.index:\n",
        "  print(Fore.GREEN + \"Index \" + str(signals_id) + \" found in df_cbsim_4_signals\" + Fore.RESET)\n",
        "else:\n",
        "  print(Fore.RED + \"Index \" + str(signals_id) + \" not found in df_cbsim_4_signals\" + Fore.RESET)\n",
        "\n",
        "# print(\"io search id: \", io_search_id)\n",
        "# print(\"signals id\", signals_id)\n",
        "print(Fore.BLUE + \"\\r\\nfd_cbsim_4_io\" + Fore.RESET)\n",
        "display(df_cbsim_4_io.loc[search_index-3:search_index+3])\n",
        "print(Fore.BLUE + \"\\r\\nfd_cbsim_4_signals\" + Fore.RESET)\n",
        "display(df_cbsim_4_signals.loc[signals_id-3:signals_id+3])"
      ],
      "metadata": {
        "id": "WS7ObopIOiHn"
      },
      "execution_count": null,
      "outputs": []
    },
    {
      "cell_type": "markdown",
      "source": [
        "********************************************************************************\n",
        "**You have done well**\n",
        "********************************************************************************"
      ],
      "metadata": {
        "id": "IZ56q8AiYQnY"
      }
    }
  ]
}